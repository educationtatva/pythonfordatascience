{
  "nbformat": 4,
  "nbformat_minor": 0,
  "metadata": {
    "colab": {
      "provenance": []
    },
    "kernelspec": {
      "display_name": "Python 3",
      "language": "python",
      "name": "python3"
    },
    "language_info": {
      "codemirror_mode": {
        "name": "ipython",
        "version": 3
      },
      "file_extension": ".py",
      "mimetype": "text/x-python",
      "name": "python",
      "nbconvert_exporter": "python",
      "pygments_lexer": "ipython3",
      "version": "3.9.2"
    }
  },
  "cells": [
    {
      "cell_type": "markdown",
      "metadata": {
        "id": "YEhkTWo1nDz_"
      },
      "source": [
        "# Python Quickstart\n",
        "## Dictionaries"
      ]
    },
    {
      "cell_type": "code",
      "metadata": {
        "id": "88RnxRrRBSJS"
      },
      "source": [
        "#Create a dictionary\n",
        "capitals = {\"INDIA\" : \"New Delhi\", \"USA\" : \"Washington DC\", \"UK\" : \"London\" }"
      ],
      "execution_count": null,
      "outputs": []
    },
    {
      "cell_type": "code",
      "metadata": {
        "id": "Yb2GxmTRDrss",
        "colab": {
          "base_uri": "https://localhost:8080/",
          "height": 35
        },
        "outputId": "e2a1b786-aaca-47e0-972a-6c14e1f3bfef"
      },
      "source": [
        "#Retrive value of a key\n",
        "capitals[\"USA\"]"
      ],
      "execution_count": null,
      "outputs": [
        {
          "output_type": "execute_result",
          "data": {
            "text/plain": [
              "'Washington DC'"
            ],
            "application/vnd.google.colaboratory.intrinsic+json": {
              "type": "string"
            }
          },
          "metadata": {},
          "execution_count": 3
        }
      ]
    },
    {
      "cell_type": "code",
      "metadata": {
        "id": "TS1KqNtkHBq4",
        "colab": {
          "base_uri": "https://localhost:8080/",
          "height": 35
        },
        "outputId": "8360d81d-510d-4ec1-e271-229e8cd482a4"
      },
      "source": [
        "#Retrieve value of a key\n",
        "capitals[\"INDIA\"]"
      ],
      "execution_count": null,
      "outputs": [
        {
          "output_type": "execute_result",
          "data": {
            "text/plain": [
              "'New Delhi'"
            ],
            "application/vnd.google.colaboratory.intrinsic+json": {
              "type": "string"
            }
          },
          "metadata": {},
          "execution_count": 4
        }
      ]
    },
    {
      "cell_type": "code",
      "metadata": {
        "id": "kTkrYdB-HflQ",
        "colab": {
          "base_uri": "https://localhost:8080/",
          "height": 35
        },
        "outputId": "c090c56d-669f-40c2-b10c-ea4687ccd180"
      },
      "source": [
        "#Case sensitive\n",
        "capitals[\"INDIA\"]"
      ],
      "execution_count": null,
      "outputs": [
        {
          "output_type": "execute_result",
          "data": {
            "text/plain": [
              "'New Delhi'"
            ],
            "application/vnd.google.colaboratory.intrinsic+json": {
              "type": "string"
            }
          },
          "metadata": {},
          "execution_count": 6
        }
      ]
    },
    {
      "cell_type": "code",
      "metadata": {
        "id": "zKzS_V9gD60W",
        "colab": {
          "base_uri": "https://localhost:8080/"
        },
        "outputId": "54bafcc5-e823-4ab5-fd55-e32bfbbcc8c9"
      },
      "source": [
        "#Length of a dictionary\n",
        "len(capitals)"
      ],
      "execution_count": null,
      "outputs": [
        {
          "output_type": "execute_result",
          "data": {
            "text/plain": [
              "3"
            ]
          },
          "metadata": {},
          "execution_count": 7
        }
      ]
    },
    {
      "cell_type": "code",
      "metadata": {
        "id": "dzIM-hUJEBfQ",
        "colab": {
          "base_uri": "https://localhost:8080/"
        },
        "outputId": "1fda3556-261b-467c-ee9a-eb22124689f4"
      },
      "source": [
        "#Built-in function to get the keys\n",
        "capitals.keys()"
      ],
      "execution_count": null,
      "outputs": [
        {
          "output_type": "execute_result",
          "data": {
            "text/plain": [
              "dict_keys(['INDIA', 'USA', 'UK'])"
            ]
          },
          "metadata": {},
          "execution_count": 8
        }
      ]
    },
    {
      "cell_type": "code",
      "metadata": {
        "id": "Ib_V2aNTEQAO",
        "colab": {
          "base_uri": "https://localhost:8080/"
        },
        "outputId": "51d61d69-1451-4ff2-bd30-574374443c5d"
      },
      "source": [
        "#Built-in function to get values\n",
        "capitals.values()"
      ],
      "execution_count": null,
      "outputs": [
        {
          "output_type": "execute_result",
          "data": {
            "text/plain": [
              "dict_values(['New Delhi', 'Washington DC', 'London'])"
            ]
          },
          "metadata": {},
          "execution_count": 9
        }
      ]
    },
    {
      "cell_type": "code",
      "metadata": {
        "id": "OBBNljqvFWvO",
        "colab": {
          "base_uri": "https://localhost:8080/"
        },
        "outputId": "bee7a542-a2fa-41e5-be4c-de4b4cb4ad7b"
      },
      "source": [
        "#Retrive all the key - value pairs\n",
        "capitals.items()"
      ],
      "execution_count": null,
      "outputs": [
        {
          "output_type": "execute_result",
          "data": {
            "text/plain": [
              "dict_items([('INDIA', 'New Delhi'), ('USA', 'Washington DC'), ('UK', 'London'), ('SRI LANKA', 'Colombo')])"
            ]
          },
          "metadata": {},
          "execution_count": 12
        }
      ]
    },
    {
      "cell_type": "code",
      "metadata": {
        "id": "kvQnx8UlFt0K"
      },
      "source": [
        "#Adding a key - value pair\n",
        "capitals[\"SRI LANKA\"] = \"Colombo\""
      ],
      "execution_count": null,
      "outputs": []
    },
    {
      "cell_type": "code",
      "metadata": {
        "id": "RIvnOM5SF51Y",
        "colab": {
          "base_uri": "https://localhost:8080/"
        },
        "outputId": "a7d6416c-f404-44f0-badd-03d3ceabcc4d"
      },
      "source": [
        "#New length of dictionary\n",
        "len(capitals)"
      ],
      "execution_count": null,
      "outputs": [
        {
          "output_type": "execute_result",
          "data": {
            "text/plain": [
              "4"
            ]
          },
          "metadata": {},
          "execution_count": 13
        }
      ]
    },
    {
      "cell_type": "code",
      "metadata": {
        "id": "kQIBmjJ_F-Ru",
        "colab": {
          "base_uri": "https://localhost:8080/"
        },
        "outputId": "fc32ad22-f941-4ebf-d1fd-c67741aec5a4"
      },
      "source": [
        "#Order of key-value pairs get changed\n",
        "capitals"
      ],
      "execution_count": null,
      "outputs": [
        {
          "output_type": "execute_result",
          "data": {
            "text/plain": [
              "{'INDIA': 'New Delhi',\n",
              " 'USA': 'Washington DC',\n",
              " 'UK': 'London',\n",
              " 'SRI LANKA': 'Colombo',\n",
              " 'AFGHANISTAN': 'Kabul',\n",
              " 'Afghanistan': 'Kabul'}"
            ]
          },
          "metadata": {},
          "execution_count": 28
        }
      ]
    },
    {
      "cell_type": "code",
      "metadata": {
        "id": "xmpY8CaeOT0U"
      },
      "source": [
        "capitals[\"AFGHANISTAN\"] = \"Kabul\""
      ],
      "execution_count": null,
      "outputs": []
    },
    {
      "cell_type": "code",
      "source": [
        "capitals[\"anil\"]"
      ],
      "metadata": {
        "colab": {
          "base_uri": "https://localhost:8080/",
          "height": 176
        },
        "id": "Z0Cr9v2T8rT8",
        "outputId": "dcf3c97b-aa3c-4cb4-fb35-321cc32d7193"
      },
      "execution_count": null,
      "outputs": [
        {
          "output_type": "error",
          "ename": "KeyError",
          "evalue": "ignored",
          "traceback": [
            "\u001b[0;31m---------------------------------------------------------------------------\u001b[0m",
            "\u001b[0;31mKeyError\u001b[0m                                  Traceback (most recent call last)",
            "\u001b[0;32m<ipython-input-29-897136d14fa8>\u001b[0m in \u001b[0;36m<cell line: 1>\u001b[0;34m()\u001b[0m\n\u001b[0;32m----> 1\u001b[0;31m \u001b[0mcapitals\u001b[0m\u001b[0;34m[\u001b[0m\u001b[0;34m\"anil\"\u001b[0m\u001b[0;34m]\u001b[0m\u001b[0;34m\u001b[0m\u001b[0;34m\u001b[0m\u001b[0m\n\u001b[0m",
            "\u001b[0;31mKeyError\u001b[0m: 'anil'"
          ]
        }
      ]
    },
    {
      "cell_type": "code",
      "metadata": {
        "id": "jCdte-XHOd6o"
      },
      "source": [
        "#Update an existing dictionary\n",
        "capitals[\"AFGHANISTAN\"] = \"KABUL\""
      ],
      "execution_count": null,
      "outputs": []
    },
    {
      "cell_type": "code",
      "metadata": {
        "id": "2uLlL38nPIRE",
        "colab": {
          "base_uri": "https://localhost:8080/"
        },
        "outputId": "fa05c7a0-c7e4-4f07-d93b-4a12332cafe1"
      },
      "source": [
        "capitals"
      ],
      "execution_count": null,
      "outputs": [
        {
          "output_type": "execute_result",
          "data": {
            "text/plain": [
              "{'INDIA': 'New Delhi',\n",
              " 'USA': 'Washington DC',\n",
              " 'UK': 'London',\n",
              " 'SRI LANKA': 'Colombo',\n",
              " 'AFGHANISTAN': 'KABUL',\n",
              " 'Afghanistan': 'Kabul'}"
            ]
          },
          "metadata": {},
          "execution_count": 31
        }
      ]
    },
    {
      "cell_type": "code",
      "metadata": {
        "id": "FBW2K6khGBwm"
      },
      "source": [
        "# keys can be tuples\n",
        "capitals[(23,45)] = \"Number\""
      ],
      "execution_count": null,
      "outputs": []
    },
    {
      "cell_type": "code",
      "source": [
        "capitals[(45,23)]"
      ],
      "metadata": {
        "colab": {
          "base_uri": "https://localhost:8080/",
          "height": 176
        },
        "id": "MeEXinVR9gGZ",
        "outputId": "8312e0be-7ace-4330-c69b-a16b8875f0ea"
      },
      "execution_count": null,
      "outputs": [
        {
          "output_type": "error",
          "ename": "KeyError",
          "evalue": "ignored",
          "traceback": [
            "\u001b[0;31m---------------------------------------------------------------------------\u001b[0m",
            "\u001b[0;31mKeyError\u001b[0m                                  Traceback (most recent call last)",
            "\u001b[0;32m<ipython-input-35-0a39b1ec6265>\u001b[0m in \u001b[0;36m<cell line: 1>\u001b[0;34m()\u001b[0m\n\u001b[0;32m----> 1\u001b[0;31m \u001b[0mcapitals\u001b[0m\u001b[0;34m[\u001b[0m\u001b[0;34m(\u001b[0m\u001b[0;36m45\u001b[0m\u001b[0;34m,\u001b[0m\u001b[0;36m23\u001b[0m\u001b[0;34m)\u001b[0m\u001b[0;34m]\u001b[0m\u001b[0;34m\u001b[0m\u001b[0;34m\u001b[0m\u001b[0m\n\u001b[0m",
            "\u001b[0;31mKeyError\u001b[0m: (45, 23)"
          ]
        }
      ]
    },
    {
      "cell_type": "code",
      "metadata": {
        "id": "TfYMEBI3LYCc",
        "colab": {
          "base_uri": "https://localhost:8080/"
        },
        "outputId": "75d37ef6-95f6-40c5-c851-d3eb7e438d21"
      },
      "source": [
        "capitals"
      ],
      "execution_count": null,
      "outputs": [
        {
          "output_type": "execute_result",
          "data": {
            "text/plain": [
              "{'INDIA': 'New Delhi',\n",
              " 'USA': 'Washington DC',\n",
              " 'UK': 'London',\n",
              " 'SRI LANKA': 'Colombo',\n",
              " 'AFGHANISTAN': 'KABUL',\n",
              " 'Afghanistan': 'Kabul',\n",
              " (23, 45): 'Number'}"
            ]
          },
          "metadata": {},
          "execution_count": 33
        }
      ]
    },
    {
      "cell_type": "code",
      "metadata": {
        "id": "RjmV9Re6LYyO",
        "colab": {
          "base_uri": "https://localhost:8080/"
        },
        "outputId": "ba070f19-69c5-4039-ccea-bffece3318ca"
      },
      "source": [
        "for k in capitals.keys():\n",
        "  print (capitals[k])"
      ],
      "execution_count": null,
      "outputs": [
        {
          "output_type": "stream",
          "name": "stdout",
          "text": [
            "New Delhi\n",
            "Washington DC\n",
            "London\n",
            "Colombo\n",
            "KABUL\n",
            "Kabul\n",
            "Number\n"
          ]
        }
      ]
    },
    {
      "cell_type": "code",
      "metadata": {
        "id": "0dbkuLt-OB_A",
        "colab": {
          "base_uri": "https://localhost:8080/"
        },
        "outputId": "42013acf-f9d9-495c-e4c7-57648299c7a9"
      },
      "source": [
        "for k in capitals.keys():\n",
        "  print (k, \",\",capitals[k])"
      ],
      "execution_count": null,
      "outputs": [
        {
          "output_type": "stream",
          "name": "stdout",
          "text": [
            "INDIA , New Delhi\n",
            "USA , Washington DC\n",
            "UK , London\n",
            "SRI LANKA , Colombo\n",
            "AFGHANISTAN , KABUL\n",
            "Afghanistan , Kabul\n",
            "(23, 45) , Number\n"
          ]
        }
      ]
    },
    {
      "cell_type": "code",
      "metadata": {
        "id": "KUYGcfrWOGzM"
      },
      "source": [
        "#Letter count\n",
        "letterCount = {}"
      ],
      "execution_count": null,
      "outputs": []
    },
    {
      "cell_type": "code",
      "metadata": {
        "id": "hgdeGHePRAMK"
      },
      "source": [
        "s = \"ANIL BAJPAI\"\n",
        "for ch in s :\n",
        "  ch = ch.lower()\n",
        "  if ch not in letterCount:\n",
        "    letterCount[ch] = 1\n",
        "  else:\n",
        "    letterCount[ch] += 1"
      ],
      "execution_count": null,
      "outputs": []
    },
    {
      "cell_type": "code",
      "metadata": {
        "id": "SYg7ARPLRkZy",
        "colab": {
          "base_uri": "https://localhost:8080/"
        },
        "outputId": "df389cc5-b3db-4ae1-efca-19e01cdf52de"
      },
      "source": [
        "letterCount"
      ],
      "execution_count": null,
      "outputs": [
        {
          "output_type": "execute_result",
          "data": {
            "text/plain": [
              "{'a': 3, 'n': 1, 'i': 2, 'l': 1, ' ': 1, 'b': 1, 'j': 1, 'p': 1}"
            ]
          },
          "metadata": {},
          "execution_count": 51
        }
      ]
    },
    {
      "cell_type": "code",
      "metadata": {
        "id": "IbUJKNpBRu9s",
        "colab": {
          "base_uri": "https://localhost:8080/"
        },
        "outputId": "aca1a3ef-bcce-40ad-85f9-129073f424df"
      },
      "source": [
        "letterCount.keys()"
      ],
      "execution_count": null,
      "outputs": [
        {
          "output_type": "execute_result",
          "data": {
            "text/plain": [
              "dict_keys(['a', 'n', 'i', 'l', ' ', 'b', 'j', 'p'])"
            ]
          },
          "metadata": {},
          "execution_count": 52
        }
      ]
    },
    {
      "cell_type": "markdown",
      "metadata": {
        "id": "J_aqrtCHQe0p"
      },
      "source": [
        "### collections\n",
        "#### Counter"
      ]
    },
    {
      "cell_type": "code",
      "metadata": {
        "id": "El5bCM4sQe0q",
        "colab": {
          "base_uri": "https://localhost:8080/"
        },
        "outputId": "f31d863f-33a1-4be4-e96a-0f5370410fef"
      },
      "source": [
        "import collections\n",
        "## Create a new Counter() object called frequencies\n",
        "frequencies = collections.Counter()\n",
        "\n",
        "## iterate through each letter in the sentence\n",
        "for letter in s:\n",
        "\n",
        "    ## update the frequencies object with each letter.\n",
        "    ## the bookkeeping is done by the Counter()\n",
        "    frequencies.update(letter)\n",
        "\n",
        "print(frequencies)"
      ],
      "execution_count": null,
      "outputs": [
        {
          "output_type": "stream",
          "name": "stdout",
          "text": [
            "Counter({'A': 3, 'I': 2, 'N': 1, 'L': 1, ' ': 1, 'B': 1, 'J': 1, 'P': 1})\n"
          ]
        }
      ]
    },
    {
      "cell_type": "markdown",
      "metadata": {
        "id": "19VxiT4kQe0q"
      },
      "source": [
        "As you can see the Counter() made it very simple to calculate the frequencies. It has a minor flaw. It is not likely that we want to count upper case and lower case letters separately. We make the change below:"
      ]
    },
    {
      "cell_type": "code",
      "metadata": {
        "id": "_mkrDQF1Qe0q",
        "colab": {
          "base_uri": "https://localhost:8080/"
        },
        "outputId": "574a0149-0455-4cee-ad7d-91c74840d819"
      },
      "source": [
        "import collections\n",
        "\n",
        "## Create a new Counter() object called frequencies\n",
        "frequencies = collections.Counter()\n",
        "\n",
        "## iterate through each letter in the sentence\n",
        "for letter in s:\n",
        "\n",
        "    ## update the frequencies object with each letter.\n",
        "    ## the bookkeeping is done by the Counter()\n",
        "    ## convert letter to lower case first\n",
        "    frequencies.update(letter.lower())\n",
        "\n",
        "print(frequencies)"
      ],
      "execution_count": null,
      "outputs": [
        {
          "output_type": "stream",
          "name": "stdout",
          "text": [
            "Counter({'a': 3, 'i': 2, 'n': 1, 'l': 1, ' ': 1, 'b': 1, 'j': 1, 'p': 1})\n"
          ]
        }
      ]
    },
    {
      "cell_type": "markdown",
      "metadata": {
        "id": "fXmE7UVUQe0r"
      },
      "source": [
        "By the way, Counter() is smart enough to count the individual elements, if a sequence of them is given. So we can do the above much more simply!"
      ]
    },
    {
      "cell_type": "code",
      "metadata": {
        "id": "HCaDhJQHQe0s",
        "colab": {
          "base_uri": "https://localhost:8080/"
        },
        "outputId": "b868cc4f-2e3b-435e-d152-92ad54e92811"
      },
      "source": [
        "import collections\n",
        "frequencies = collections.Counter(s.lower())\n",
        "\n",
        "print(frequencies)"
      ],
      "execution_count": null,
      "outputs": [
        {
          "output_type": "stream",
          "name": "stdout",
          "text": [
            "Counter({'a': 3, 'i': 2, 'n': 1, 'l': 1, ' ': 1, 'b': 1, 'j': 1, 'p': 1})\n"
          ]
        }
      ]
    },
    {
      "cell_type": "markdown",
      "metadata": {
        "id": "zYorgrCzQe0s"
      },
      "source": [
        "Counter offers a lot more functionality"
      ]
    },
    {
      "cell_type": "code",
      "metadata": {
        "id": "Bg82GDTUQe0s",
        "colab": {
          "base_uri": "https://localhost:8080/"
        },
        "outputId": "b5f44e08-d064-4706-e14c-789f0afa8394"
      },
      "source": [
        "lett_freq = collections.Counter(s.lower())\n",
        "lett_freq.most_common(10)"
      ],
      "execution_count": null,
      "outputs": [
        {
          "output_type": "execute_result",
          "data": {
            "text/plain": [
              "[('a', 3),\n",
              " ('i', 2),\n",
              " ('n', 1),\n",
              " ('l', 1),\n",
              " (' ', 1),\n",
              " ('b', 1),\n",
              " ('j', 1),\n",
              " ('p', 1)]"
            ]
          },
          "metadata": {},
          "execution_count": 59
        }
      ]
    },
    {
      "cell_type": "markdown",
      "metadata": {
        "id": "B3oK1H1RQe0t"
      },
      "source": [
        "As you can see we fed a sentence and got back the top-5 frequently occurring characters, with their frequencies. So let us now write a function that finds the most frequently occurring **letter** in a given sentence."
      ]
    },
    {
      "cell_type": "code",
      "metadata": {
        "id": "1op0EYuMQe0t"
      },
      "source": [
        "def mostFreqLetter(s):\n",
        "    import collections\n",
        "    freq = collections.Counter()\n",
        "    for ch in s:\n",
        "        ch = ch.lower()\n",
        "        if 'a' <= ch <= 'z':\n",
        "            freq.update(ch)\n",
        "    return freq.most_common(3)[0]"
      ],
      "execution_count": null,
      "outputs": []
    },
    {
      "cell_type": "code",
      "metadata": {
        "id": "FlcLCUXLQe0u",
        "colab": {
          "base_uri": "https://localhost:8080/"
        },
        "outputId": "8be05a31-e200-4095-fbbd-802240efe8f7"
      },
      "source": [
        "mostFreqLetter(\"Old brother fox jumps over the lzay dog in this pangram of English\")"
      ],
      "execution_count": null,
      "outputs": [
        {
          "output_type": "execute_result",
          "data": {
            "text/plain": [
              "('o', 6)"
            ]
          },
          "metadata": {},
          "execution_count": 67
        }
      ]
    },
    {
      "cell_type": "markdown",
      "metadata": {
        "id": "D9HM0UkFQe0u"
      },
      "source": [
        "**Counter() cannot count individual floats or integers**"
      ]
    },
    {
      "cell_type": "code",
      "metadata": {
        "id": "9OlpsseNQe0u"
      },
      "source": [
        "f = [8, 1.2, 1.6, 3.2, 1, 1.2, 5, 600, 1, 3, 1.2, ]\n",
        "import collections\n",
        "freq = collections.Counter()\n",
        "for n in f:\n",
        "    freq.update(n)\n",
        "print(freq)"
      ],
      "execution_count": null,
      "outputs": []
    },
    {
      "cell_type": "markdown",
      "metadata": {
        "id": "afLMKuwLQe0u"
      },
      "source": [
        "But this will work"
      ]
    },
    {
      "cell_type": "code",
      "metadata": {
        "id": "M55v5Lj7Qe0u",
        "colab": {
          "base_uri": "https://localhost:8080/"
        },
        "outputId": "89edea91-3ce1-4713-e9e4-34dfb3cae5fa"
      },
      "source": [
        "f = [8, 1.2, 1.6, 3.2, 1, 1.2, 5, 600, 1, 3, 1.2, ]\n",
        "import collections\n",
        "freq = collections.Counter()\n",
        "freq.update(f)\n",
        "print(freq)\n",
        "print(freq.most_common(2))"
      ],
      "execution_count": null,
      "outputs": [
        {
          "output_type": "stream",
          "name": "stdout",
          "text": [
            "Counter({1.2: 3, 1: 2, 8: 1, 1.6: 1, 3.2: 1, 5: 1, 600: 1, 3: 1})\n",
            "[(1.2, 3), (1, 2)]\n"
          ]
        }
      ]
    }
  ]
}