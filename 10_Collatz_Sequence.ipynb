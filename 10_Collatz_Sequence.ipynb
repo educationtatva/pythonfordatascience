{
  "nbformat": 4,
  "nbformat_minor": 0,
  "metadata": {
    "colab": {
      "provenance": []
    },
    "kernelspec": {
      "name": "python3",
      "display_name": "Python 3"
    },
    "language_info": {
      "name": "python"
    }
  },
  "cells": [
    {
      "cell_type": "markdown",
      "source": [
        "Collatz Sequence\n",
        "\n",
        "If n is even, then n = n / 2. If n is odd, then n = 3*n + 1\n",
        "\n",
        "\n",
        "\n",
        "for 77 as input\n",
        "\n",
        "77,232,116,58,29,88,44,22,11,34,17,52,26,13,40,20,10,5,16,8,4,2,1\n",
        "\n",
        "for 14 as input\n",
        "\n",
        "14,7,22,11,34,17,52,26,13,40,20,10,5,16,8,4,2,1\n"
      ],
      "metadata": {
        "id": "a7rgqDnz6Hfr"
      }
    },
    {
      "cell_type": "code",
      "execution_count": null,
      "metadata": {
        "id": "itdaTKn35w0O"
      },
      "outputs": [],
      "source": [
        "def next_collatz(n: int) -> int:\n",
        "    return n // 2 if n % 2 == 0 else 3 * n + 1"
      ]
    },
    {
      "cell_type": "code",
      "source": [
        "def collatz_seq(start: int) -> list:\n",
        "    listDetails = []\n",
        "    #print(start)\n",
        "    if start == 4:\n",
        "        return [4, 2, 1]\n",
        "    else:\n",
        "        listDetails = [start] + collatz_seq(next_collatz(start))\n",
        "        print(listDetails)\n",
        "        return listDetails"
      ],
      "metadata": {
        "id": "oZ0Q4vAeBur8"
      },
      "execution_count": null,
      "outputs": []
    },
    {
      "cell_type": "code",
      "source": [
        "print(collatz_seq(77))"
      ],
      "metadata": {
        "colab": {
          "base_uri": "https://localhost:8080/"
        },
        "id": "J3wY_BbAB9Hy",
        "outputId": "97c69890-455c-434b-eb56-e365d36c3d51"
      },
      "execution_count": null,
      "outputs": [
        {
          "output_type": "stream",
          "name": "stdout",
          "text": [
            "[8, 4, 2, 1]\n",
            "[16, 8, 4, 2, 1]\n",
            "[5, 16, 8, 4, 2, 1]\n",
            "[10, 5, 16, 8, 4, 2, 1]\n",
            "[20, 10, 5, 16, 8, 4, 2, 1]\n",
            "[40, 20, 10, 5, 16, 8, 4, 2, 1]\n",
            "[13, 40, 20, 10, 5, 16, 8, 4, 2, 1]\n",
            "[26, 13, 40, 20, 10, 5, 16, 8, 4, 2, 1]\n",
            "[52, 26, 13, 40, 20, 10, 5, 16, 8, 4, 2, 1]\n",
            "[17, 52, 26, 13, 40, 20, 10, 5, 16, 8, 4, 2, 1]\n",
            "[34, 17, 52, 26, 13, 40, 20, 10, 5, 16, 8, 4, 2, 1]\n",
            "[11, 34, 17, 52, 26, 13, 40, 20, 10, 5, 16, 8, 4, 2, 1]\n",
            "[22, 11, 34, 17, 52, 26, 13, 40, 20, 10, 5, 16, 8, 4, 2, 1]\n",
            "[44, 22, 11, 34, 17, 52, 26, 13, 40, 20, 10, 5, 16, 8, 4, 2, 1]\n",
            "[88, 44, 22, 11, 34, 17, 52, 26, 13, 40, 20, 10, 5, 16, 8, 4, 2, 1]\n",
            "[29, 88, 44, 22, 11, 34, 17, 52, 26, 13, 40, 20, 10, 5, 16, 8, 4, 2, 1]\n",
            "[58, 29, 88, 44, 22, 11, 34, 17, 52, 26, 13, 40, 20, 10, 5, 16, 8, 4, 2, 1]\n",
            "[116, 58, 29, 88, 44, 22, 11, 34, 17, 52, 26, 13, 40, 20, 10, 5, 16, 8, 4, 2, 1]\n",
            "[232, 116, 58, 29, 88, 44, 22, 11, 34, 17, 52, 26, 13, 40, 20, 10, 5, 16, 8, 4, 2, 1]\n",
            "[77, 232, 116, 58, 29, 88, 44, 22, 11, 34, 17, 52, 26, 13, 40, 20, 10, 5, 16, 8, 4, 2, 1]\n",
            "[77, 232, 116, 58, 29, 88, 44, 22, 11, 34, 17, 52, 26, 13, 40, 20, 10, 5, 16, 8, 4, 2, 1]\n"
          ]
        }
      ]
    },
    {
      "cell_type": "code",
      "source": [
        "def test(x):\n",
        "    if x > 9 :\n",
        "        test(x - 10)\n",
        "    else:\n",
        "        print('real value',x)\n",
        "        return x\n",
        "    return x\n",
        "\n",
        "x = int(input())\n",
        "y = test(x)\n",
        "print('this should be real value',y)"
      ],
      "metadata": {
        "colab": {
          "base_uri": "https://localhost:8080/"
        },
        "id": "fbNdro2gIxOt",
        "outputId": "cf1c7df6-5fdc-4700-d841-74df36c4281c"
      },
      "execution_count": null,
      "outputs": [
        {
          "output_type": "stream",
          "name": "stdout",
          "text": [
            "22\n",
            "real value 2\n",
            "this should be real value 22\n"
          ]
        }
      ]
    },
    {
      "cell_type": "code",
      "source": [
        "def test45(x):\n",
        "    if x > 9 :\n",
        "        test35(x - 10)\n",
        "    else:\n",
        "        print('real value',x)\n",
        "        return x\n",
        "\n",
        "def test35(x):\n",
        "    if x > 9 :\n",
        "        test25(x - 10)\n",
        "    else:\n",
        "        print('real value',x)\n",
        "        return x\n",
        "\n",
        "def test25(x):\n",
        "    if x > 9 :\n",
        "        test15(x - 10)\n",
        "    else:\n",
        "        print('real value',x)\n",
        "        return x\n",
        "\n",
        "def test15(x):\n",
        "    if x > 9 :\n",
        "        test5(x - 10)\n",
        "    else:\n",
        "        print('real value',x)\n",
        "        return x\n",
        "\n",
        "def test5(x):\n",
        "    if x > 9 :\n",
        "        print(\"No more tests :(\")\n",
        "    else:\n",
        "        print('real value',x)\n",
        "        return x\n",
        "\n",
        "test45(45)"
      ],
      "metadata": {
        "colab": {
          "base_uri": "https://localhost:8080/"
        },
        "id": "qOBrZv2QKe6S",
        "outputId": "ef3e319a-f6a8-4efa-9251-d7d878b4cd1b"
      },
      "execution_count": null,
      "outputs": [
        {
          "output_type": "stream",
          "name": "stdout",
          "text": [
            "real value 5\n"
          ]
        }
      ]
    },
    {
      "cell_type": "code",
      "source": [
        "def next_collatz(n: int) -> int:\n",
        "    return n // 2 if n % 2 == 0 else 3 * n + 1\n",
        "\n",
        "\n",
        "def collatz_seq(start: int) -> list:\n",
        "    listDetails = []\n",
        "    if start == 4:\n",
        "        return [4, 2, 1]\n",
        "    else:\n",
        "        listDetails = [start] + collatz_seq(next_collatz(start))\n",
        "        print(listDetails)\n",
        "        return listDetails\n",
        "\n",
        "print(collatz_seq(77))"
      ],
      "metadata": {
        "id": "zJ8OJlCVK8sC"
      },
      "execution_count": null,
      "outputs": []
    },
    {
      "cell_type": "code",
      "source": [
        "def collatzA(n : int ) -> list:\n",
        "    seq = []\n",
        "    while n != 4:\n",
        "        seq.append(n)\n",
        "        n = next_collatz(n)\n",
        "    return seq + [4,2,1]"
      ],
      "metadata": {
        "id": "g7p_TDQ6Pkga"
      },
      "execution_count": null,
      "outputs": []
    },
    {
      "cell_type": "code",
      "source": [
        "def CollatzB(n : int) -> list:\n",
        "    seq = []\n",
        "    while seq[-3:] != [4, 2, 1]:\n",
        "        seq.append(n)\n",
        "        n = next_collatz(n)\n",
        "    return seq"
      ],
      "metadata": {
        "id": "NP8uijvbP6yU"
      },
      "execution_count": null,
      "outputs": []
    },
    {
      "cell_type": "code",
      "source": [
        "print(CollatzB(77))"
      ],
      "metadata": {
        "colab": {
          "base_uri": "https://localhost:8080/"
        },
        "id": "hyZRMfklQNJA",
        "outputId": "3b5ce146-24b8-4667-b3cd-3bdb06092156"
      },
      "execution_count": null,
      "outputs": [
        {
          "output_type": "stream",
          "name": "stdout",
          "text": [
            "[77, 232, 116, 58, 29, 88, 44, 22, 11, 34, 17, 52, 26, 13, 40, 20, 10, 5, 16, 8, 4, 2, 1]\n"
          ]
        }
      ]
    }
  ]
}